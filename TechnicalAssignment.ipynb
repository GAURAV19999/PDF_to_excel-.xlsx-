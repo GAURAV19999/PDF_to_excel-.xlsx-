{
 "cells": [
  {
   "cell_type": "markdown",
   "metadata": {
    "pycharm": {
     "name": "#%% md\n"
    }
   },
   "source": [
    "# *Importing Modules*\n",
    "---"
   ]
  },
  {
   "cell_type": "code",
   "execution_count": 1,
   "metadata": {
    "collapsed": true,
    "pycharm": {
     "name": "#%%\n"
    }
   },
   "outputs": [],
   "source": [
    "\n",
    "from tabula import read_pdf\n",
    "#from tabulate import tabulate\n",
    "#import camelot\n",
    "import pandas as pd\n",
    "import numpy as np\n",
    "import re"
   ]
  },
  {
   "cell_type": "markdown",
   "metadata": {
    "pycharm": {
     "name": "#%% md\n"
    }
   },
   "source": [
    "# *Reading pdf file containing table*\n",
    "---"
   ]
  },
  {
   "cell_type": "code",
   "execution_count": 2,
   "metadata": {
    "pycharm": {
     "name": "#%%\n"
    }
   },
   "outputs": [],
   "source": [
    "input_file = read_pdf(\"C:/Users/Atal/PycharmProjects/MachineLearningImplementation/test_input.pdf\",\n",
    "                    pages=1,java_options=\"-Dfile.encoding=UTF8\", stream=True)"
   ]
  },
  {
   "cell_type": "code",
   "execution_count": 3,
   "metadata": {
    "pycharm": {
     "name": "#%%\n"
    }
   },
   "outputs": [
    {
     "name": "stdout",
     "output_type": "stream",
     "text": [
      "<class 'pandas.core.frame.DataFrame'>\n",
      "RangeIndex: 31 entries, 0 to 30\n",
      "Data columns (total 4 columns):\n",
      " #   Column       Non-Null Count  Dtype \n",
      "---  ------       --------------  ----- \n",
      " 0   Value date   24 non-null     object\n",
      " 1   Order date   19 non-null     object\n",
      " 2   Description  30 non-null     object\n",
      " 3   Amount       26 non-null     object\n",
      "dtypes: object(4)\n",
      "memory usage: 1.1+ KB\n"
     ]
    }
   ],
   "source": [
    "input_file[0].info()"
   ]
  },
  {
   "cell_type": "code",
   "execution_count": 4,
   "metadata": {
    "pycharm": {
     "name": "#%%\n"
    }
   },
   "outputs": [
    {
     "data": {
      "text/plain": "     Value date   Order date                     Description Amount\n0      Deposits          NaN                             NaN    NaN\n1  Deposits AUD          NaN                 Opening balance  32.29\n2           NaN          NaN  Month end balance(31 Mar 2019)  32.29\n3  Deposits HKD          NaN                 Opening balance   0.00\n4   01 Mar 2019  28 Feb 2019               INTEREST RECEIVED   2.39",
      "text/html": "<div>\n<style scoped>\n    .dataframe tbody tr th:only-of-type {\n        vertical-align: middle;\n    }\n\n    .dataframe tbody tr th {\n        vertical-align: top;\n    }\n\n    .dataframe thead th {\n        text-align: right;\n    }\n</style>\n<table border=\"1\" class=\"dataframe\">\n  <thead>\n    <tr style=\"text-align: right;\">\n      <th></th>\n      <th>Value date</th>\n      <th>Order date</th>\n      <th>Description</th>\n      <th>Amount</th>\n    </tr>\n  </thead>\n  <tbody>\n    <tr>\n      <th>0</th>\n      <td>Deposits</td>\n      <td>NaN</td>\n      <td>NaN</td>\n      <td>NaN</td>\n    </tr>\n    <tr>\n      <th>1</th>\n      <td>Deposits AUD</td>\n      <td>NaN</td>\n      <td>Opening balance</td>\n      <td>32.29</td>\n    </tr>\n    <tr>\n      <th>2</th>\n      <td>NaN</td>\n      <td>NaN</td>\n      <td>Month end balance(31 Mar 2019)</td>\n      <td>32.29</td>\n    </tr>\n    <tr>\n      <th>3</th>\n      <td>Deposits HKD</td>\n      <td>NaN</td>\n      <td>Opening balance</td>\n      <td>0.00</td>\n    </tr>\n    <tr>\n      <th>4</th>\n      <td>01 Mar 2019</td>\n      <td>28 Feb 2019</td>\n      <td>INTEREST RECEIVED</td>\n      <td>2.39</td>\n    </tr>\n  </tbody>\n</table>\n</div>"
     },
     "execution_count": 4,
     "metadata": {},
     "output_type": "execute_result"
    }
   ],
   "source": [
    "table = pd.DataFrame(input_file[0])\n",
    "table.head()"
   ]
  },
  {
   "cell_type": "markdown",
   "metadata": {
    "pycharm": {
     "name": "#%% md\n"
    }
   },
   "source": [
    "---\n",
    "## *Pattern matching to get the Currency type*\n",
    "\n",
    "### *['AUD', 'HKD', 'SGD', 'USD']*"
   ]
  },
  {
   "cell_type": "code",
   "execution_count": 5,
   "metadata": {
    "pycharm": {
     "name": "#%%\n"
    }
   },
   "outputs": [],
   "source": [
    "pattern_currency = re.compile('[A-Z]{3}')"
   ]
  },
  {
   "cell_type": "code",
   "execution_count": 6,
   "metadata": {
    "pycharm": {
     "name": "#%%\n"
    }
   },
   "outputs": [],
   "source": [
    "Currency = []\n",
    "# empty list to hold currency type\n",
    "\n",
    "for i in range(len(table)):\n",
    "    match = pattern_currency.findall(str(table.loc[i, 'Value date']))\n",
    "    if i == 0:\n",
    "        Currency.append(np.nan)\n",
    "    elif match:\n",
    "        Currency.append(match)\n",
    "    else:\n",
    "        Currency.append(Currency[i-1])"
   ]
  },
  {
   "cell_type": "code",
   "execution_count": 7,
   "metadata": {
    "pycharm": {
     "name": "#%%\n"
    }
   },
   "outputs": [],
   "source": [
    "# Converting the list of list into a list of string\n",
    "\n",
    "for i in range(1,len(Currency)):\n",
    "    Currency[i] = Currency[i][0]"
   ]
  },
  {
   "cell_type": "code",
   "execution_count": 8,
   "metadata": {
    "pycharm": {
     "name": "#%%\n"
    }
   },
   "outputs": [
    {
     "data": {
      "text/plain": "     Value date   Order date                     Description Amount Currency\n0      Deposits          NaN                             NaN    NaN      NaN\n1  Deposits AUD          NaN                 Opening balance  32.29      AUD\n2           NaN          NaN  Month end balance(31 Mar 2019)  32.29      AUD\n3  Deposits HKD          NaN                 Opening balance   0.00      HKD\n4   01 Mar 2019  28 Feb 2019               INTEREST RECEIVED   2.39      HKD",
      "text/html": "<div>\n<style scoped>\n    .dataframe tbody tr th:only-of-type {\n        vertical-align: middle;\n    }\n\n    .dataframe tbody tr th {\n        vertical-align: top;\n    }\n\n    .dataframe thead th {\n        text-align: right;\n    }\n</style>\n<table border=\"1\" class=\"dataframe\">\n  <thead>\n    <tr style=\"text-align: right;\">\n      <th></th>\n      <th>Value date</th>\n      <th>Order date</th>\n      <th>Description</th>\n      <th>Amount</th>\n      <th>Currency</th>\n    </tr>\n  </thead>\n  <tbody>\n    <tr>\n      <th>0</th>\n      <td>Deposits</td>\n      <td>NaN</td>\n      <td>NaN</td>\n      <td>NaN</td>\n      <td>NaN</td>\n    </tr>\n    <tr>\n      <th>1</th>\n      <td>Deposits AUD</td>\n      <td>NaN</td>\n      <td>Opening balance</td>\n      <td>32.29</td>\n      <td>AUD</td>\n    </tr>\n    <tr>\n      <th>2</th>\n      <td>NaN</td>\n      <td>NaN</td>\n      <td>Month end balance(31 Mar 2019)</td>\n      <td>32.29</td>\n      <td>AUD</td>\n    </tr>\n    <tr>\n      <th>3</th>\n      <td>Deposits HKD</td>\n      <td>NaN</td>\n      <td>Opening balance</td>\n      <td>0.00</td>\n      <td>HKD</td>\n    </tr>\n    <tr>\n      <th>4</th>\n      <td>01 Mar 2019</td>\n      <td>28 Feb 2019</td>\n      <td>INTEREST RECEIVED</td>\n      <td>2.39</td>\n      <td>HKD</td>\n    </tr>\n  </tbody>\n</table>\n</div>"
     },
     "execution_count": 8,
     "metadata": {},
     "output_type": "execute_result"
    }
   ],
   "source": [
    "# Inserting Currency column to the dataframe table\n",
    "\n",
    "table['Currency'] = Currency\n",
    "table.head()"
   ]
  },
  {
   "cell_type": "markdown",
   "metadata": {
    "pycharm": {
     "name": "#%% md\n"
    }
   },
   "source": [
    "## *Pattern matching for transaction type, i.e.*\n",
    "+ ### *Credit or*\n",
    "+ ### *Debit*"
   ]
  },
  {
   "cell_type": "code",
   "execution_count": 9,
   "metadata": {
    "pycharm": {
     "name": "#%%\n"
    }
   },
   "outputs": [],
   "source": [
    "tran_patt = re.compile('[(][\\d(),.]+[)]')\n",
    "Credit = [np.nan]*len(table)\n",
    "Debit = [np.nan]*len(table)"
   ]
  },
  {
   "cell_type": "code",
   "execution_count": 10,
   "metadata": {
    "pycharm": {
     "name": "#%%\n"
    }
   },
   "outputs": [],
   "source": [
    "for i in range(len(table)):\n",
    "    match_tran = tran_patt.findall(str(table.loc[i,'Amount']))\n",
    "    if match_tran:\n",
    "        Debit[i] = match_tran\n",
    "    else:\n",
    "        Credit[i] = table.loc[i,'Amount']"
   ]
  },
  {
   "cell_type": "code",
   "execution_count": 11,
   "metadata": {
    "pycharm": {
     "name": "#%%\n"
    }
   },
   "outputs": [
    {
     "name": "stdout",
     "output_type": "stream",
     "text": [
      "Debit [nan, nan, nan, nan, nan, nan, nan, nan, nan, ['(5,443,428.95)'], ['(1,834.73)'], nan, ['(5,445,263.68)'], ['(1,998.34)'], nan, ['(2,427,234.63)'], ['(849.20)'], nan, nan, nan, nan, nan, ['(2,428,083.83)'], ['(881.01)'], nan, nan, nan, nan, nan, nan, nan]\n",
      "\n",
      "\n",
      "Credit [nan, '32.29', '32.29', '0.00', '2.39', '20,025.00', nan, '3,000,000.00', nan, nan, nan, '5,445,263.68', nan, nan, '2,427,234.63', nan, nan, '2,428,083.83', '20,025.00', nan, '3,000,000.00', nan, nan, nan, '591,060.16', '302,404.96', '302,404.96', '64,338.48', '15.50', '1,325.50', '400.00']\n"
     ]
    }
   ],
   "source": [
    "print(\"Debit\",Debit)\n",
    "print(\"\\n\")\n",
    "print(\"Credit\",Credit)"
   ]
  },
  {
   "cell_type": "code",
   "execution_count": 12,
   "metadata": {
    "pycharm": {
     "name": "#%%\n"
    }
   },
   "outputs": [],
   "source": [
    "# Debit is list of list so converting it into list of floating numbers\n",
    "\n",
    "for i in range(len(Debit)):\n",
    "    temp_y = []\n",
    "    if not pd.isnull(Debit[i]):\n",
    "        for j in Debit[i][0]:\n",
    "            if j != \"'\" and j != \"(\" and j != \")\" and j != \",\":\n",
    "                temp_y.append(j)\n",
    "        temp_y = \"\".join(temp_y)\n",
    "        Debit[i] = float(temp_y)"
   ]
  },
  {
   "cell_type": "code",
   "execution_count": 13,
   "metadata": {
    "pycharm": {
     "name": "#%%\n"
    }
   },
   "outputs": [],
   "source": [
    "# Credit is list of list so converting it into list of floating numbers\n",
    "\n",
    "for i in range(len(Credit)):\n",
    "    y = []\n",
    "    if not pd.isnull(Credit[i]):\n",
    "        for j in Credit[i]:\n",
    "            if j != \"'\" and j != \"(\" and j != \")\" and j != \",\":\n",
    "                y.append(j)\n",
    "        y = \"\".join(y)\n",
    "        Credit[i] = float(y)"
   ]
  },
  {
   "cell_type": "code",
   "execution_count": 14,
   "metadata": {
    "pycharm": {
     "name": "#%%\n"
    }
   },
   "outputs": [],
   "source": [
    "# Inserting columns Debit and Credit as 4th and 5th column of the dataframe respectively\n",
    "\n",
    "table.insert(3,'Debit',Debit)\n",
    "table.insert(4,'Credit',Credit)"
   ]
  },
  {
   "cell_type": "code",
   "execution_count": 15,
   "metadata": {
    "pycharm": {
     "name": "#%%\n"
    }
   },
   "outputs": [
    {
     "data": {
      "text/plain": "     Value date   Order date                     Description  Debit  Credit  \\\n0      Deposits          NaN                             NaN    NaN     NaN   \n1  Deposits AUD          NaN                 Opening balance    NaN   32.29   \n2           NaN          NaN  Month end balance(31 Mar 2019)    NaN   32.29   \n3  Deposits HKD          NaN                 Opening balance    NaN    0.00   \n4   01 Mar 2019  28 Feb 2019               INTEREST RECEIVED    NaN    2.39   \n\n  Amount Currency  \n0    NaN      NaN  \n1  32.29      AUD  \n2  32.29      AUD  \n3   0.00      HKD  \n4   2.39      HKD  ",
      "text/html": "<div>\n<style scoped>\n    .dataframe tbody tr th:only-of-type {\n        vertical-align: middle;\n    }\n\n    .dataframe tbody tr th {\n        vertical-align: top;\n    }\n\n    .dataframe thead th {\n        text-align: right;\n    }\n</style>\n<table border=\"1\" class=\"dataframe\">\n  <thead>\n    <tr style=\"text-align: right;\">\n      <th></th>\n      <th>Value date</th>\n      <th>Order date</th>\n      <th>Description</th>\n      <th>Debit</th>\n      <th>Credit</th>\n      <th>Amount</th>\n      <th>Currency</th>\n    </tr>\n  </thead>\n  <tbody>\n    <tr>\n      <th>0</th>\n      <td>Deposits</td>\n      <td>NaN</td>\n      <td>NaN</td>\n      <td>NaN</td>\n      <td>NaN</td>\n      <td>NaN</td>\n      <td>NaN</td>\n    </tr>\n    <tr>\n      <th>1</th>\n      <td>Deposits AUD</td>\n      <td>NaN</td>\n      <td>Opening balance</td>\n      <td>NaN</td>\n      <td>32.29</td>\n      <td>32.29</td>\n      <td>AUD</td>\n    </tr>\n    <tr>\n      <th>2</th>\n      <td>NaN</td>\n      <td>NaN</td>\n      <td>Month end balance(31 Mar 2019)</td>\n      <td>NaN</td>\n      <td>32.29</td>\n      <td>32.29</td>\n      <td>AUD</td>\n    </tr>\n    <tr>\n      <th>3</th>\n      <td>Deposits HKD</td>\n      <td>NaN</td>\n      <td>Opening balance</td>\n      <td>NaN</td>\n      <td>0.00</td>\n      <td>0.00</td>\n      <td>HKD</td>\n    </tr>\n    <tr>\n      <th>4</th>\n      <td>01 Mar 2019</td>\n      <td>28 Feb 2019</td>\n      <td>INTEREST RECEIVED</td>\n      <td>NaN</td>\n      <td>2.39</td>\n      <td>2.39</td>\n      <td>HKD</td>\n    </tr>\n  </tbody>\n</table>\n</div>"
     },
     "execution_count": 15,
     "metadata": {},
     "output_type": "execute_result"
    }
   ],
   "source": [
    "table.head()"
   ]
  },
  {
   "cell_type": "markdown",
   "metadata": {
    "pycharm": {
     "name": "#%% md\n"
    }
   },
   "source": [
    "## *Removing the section headers*"
   ]
  },
  {
   "cell_type": "code",
   "execution_count": 16,
   "metadata": {
    "pycharm": {
     "name": "#%%\n"
    }
   },
   "outputs": [
    {
     "data": {
      "text/plain": "[0, 1, 2, 3, 24, 25, 26, 27]"
     },
     "execution_count": 16,
     "metadata": {},
     "output_type": "execute_result"
    }
   ],
   "source": [
    "# Collecting the indexes of rows formed by section headers\n",
    "\n",
    "sec_header1 = re.compile('^[D][\\w\\s]+')\n",
    "sec_header2 = re.compile('^[M|O][\\w\\s]+')\n",
    "# Pattern matching for section header\n",
    "\n",
    "idx = []\n",
    "for i in range(len(table)):\n",
    "    temp_header1 = sec_header1.findall(str(table.loc[i,'Value date']))\n",
    "    temp_header2 = sec_header2.findall(str(table.loc[i,'Description']))\n",
    "    if temp_header1 or temp_header2:\n",
    "        idx.append(i)\n",
    "idx # Collection of row index for section headers"
   ]
  },
  {
   "cell_type": "code",
   "execution_count": 17,
   "metadata": {
    "pycharm": {
     "name": "#%%\n"
    }
   },
   "outputs": [],
   "source": [
    "# Dropping section header rows\n",
    "\n",
    "table = table.drop(idx)"
   ]
  },
  {
   "cell_type": "code",
   "execution_count": 18,
   "metadata": {
    "pycharm": {
     "name": "#%%\n"
    }
   },
   "outputs": [
    {
     "data": {
      "text/plain": "    Value date   Order date  \\\n4  01 Mar 2019  28 Feb 2019   \n5  04 Mar 2019  27 Feb 2019   \n6          NaN          NaN   \n7  04 Mar 2019  04 Mar 2019   \n8          NaN          NaN   \n\n                                         Description  Debit      Credit  \\\n4                                  INTEREST RECEIVED    NaN        2.39   \n5  INTEREST FOR BNP PARIBAS 4M CALLABLE FIXED COU...    NaN    20025.00   \n6                         ISIN:XS1881628199 #44368-0    NaN         NaN   \n7  EARLY REDEMPTION OF HKD 3,000,000.00 BNP PARIB...    NaN  3000000.00   \n8         04MAR2019 8.01% ISIN:XS1881628199 #12740-0    NaN         NaN   \n\n         Amount Currency  \n4          2.39      HKD  \n5     20,025.00      HKD  \n6           NaN      HKD  \n7  3,000,000.00      HKD  \n8           NaN      HKD  ",
      "text/html": "<div>\n<style scoped>\n    .dataframe tbody tr th:only-of-type {\n        vertical-align: middle;\n    }\n\n    .dataframe tbody tr th {\n        vertical-align: top;\n    }\n\n    .dataframe thead th {\n        text-align: right;\n    }\n</style>\n<table border=\"1\" class=\"dataframe\">\n  <thead>\n    <tr style=\"text-align: right;\">\n      <th></th>\n      <th>Value date</th>\n      <th>Order date</th>\n      <th>Description</th>\n      <th>Debit</th>\n      <th>Credit</th>\n      <th>Amount</th>\n      <th>Currency</th>\n    </tr>\n  </thead>\n  <tbody>\n    <tr>\n      <th>4</th>\n      <td>01 Mar 2019</td>\n      <td>28 Feb 2019</td>\n      <td>INTEREST RECEIVED</td>\n      <td>NaN</td>\n      <td>2.39</td>\n      <td>2.39</td>\n      <td>HKD</td>\n    </tr>\n    <tr>\n      <th>5</th>\n      <td>04 Mar 2019</td>\n      <td>27 Feb 2019</td>\n      <td>INTEREST FOR BNP PARIBAS 4M CALLABLE FIXED COU...</td>\n      <td>NaN</td>\n      <td>20025.00</td>\n      <td>20,025.00</td>\n      <td>HKD</td>\n    </tr>\n    <tr>\n      <th>6</th>\n      <td>NaN</td>\n      <td>NaN</td>\n      <td>ISIN:XS1881628199 #44368-0</td>\n      <td>NaN</td>\n      <td>NaN</td>\n      <td>NaN</td>\n      <td>HKD</td>\n    </tr>\n    <tr>\n      <th>7</th>\n      <td>04 Mar 2019</td>\n      <td>04 Mar 2019</td>\n      <td>EARLY REDEMPTION OF HKD 3,000,000.00 BNP PARIB...</td>\n      <td>NaN</td>\n      <td>3000000.00</td>\n      <td>3,000,000.00</td>\n      <td>HKD</td>\n    </tr>\n    <tr>\n      <th>8</th>\n      <td>NaN</td>\n      <td>NaN</td>\n      <td>04MAR2019 8.01% ISIN:XS1881628199 #12740-0</td>\n      <td>NaN</td>\n      <td>NaN</td>\n      <td>NaN</td>\n      <td>HKD</td>\n    </tr>\n  </tbody>\n</table>\n</div>"
     },
     "execution_count": 18,
     "metadata": {},
     "output_type": "execute_result"
    }
   ],
   "source": [
    "table.head()"
   ]
  },
  {
   "cell_type": "markdown",
   "metadata": {
    "pycharm": {
     "name": "#%% md\n"
    }
   },
   "source": [
    "## *Formatting the date values in column 'Value date' and 'Order Date'*\n",
    "---"
   ]
  },
  {
   "cell_type": "code",
   "execution_count": 19,
   "metadata": {
    "pycharm": {
     "name": "#%%\n"
    }
   },
   "outputs": [],
   "source": [
    "table['Value date'], table['Order date'] = pd.to_datetime(table['Value date']), pd.to_datetime(table['Order date'])"
   ]
  },
  {
   "cell_type": "code",
   "execution_count": 20,
   "metadata": {
    "pycharm": {
     "name": "#%%\n"
    }
   },
   "outputs": [
    {
     "name": "stdout",
     "output_type": "stream",
     "text": [
      "<class 'pandas.core.frame.DataFrame'>\n",
      "Int64Index: 23 entries, 4 to 30\n",
      "Data columns (total 7 columns):\n",
      " #   Column       Non-Null Count  Dtype         \n",
      "---  ------       --------------  -----         \n",
      " 0   Value date   19 non-null     datetime64[ns]\n",
      " 1   Order date   19 non-null     datetime64[ns]\n",
      " 2   Description  23 non-null     object        \n",
      " 3   Debit        8 non-null      float64       \n",
      " 4   Credit       11 non-null     float64       \n",
      " 5   Amount       19 non-null     object        \n",
      " 6   Currency     23 non-null     object        \n",
      "dtypes: datetime64[ns](2), float64(2), object(3)\n",
      "memory usage: 1.4+ KB\n"
     ]
    }
   ],
   "source": [
    "table.info()"
   ]
  },
  {
   "cell_type": "markdown",
   "metadata": {
    "pycharm": {
     "name": "#%% md\n"
    }
   },
   "source": [
    "For some transactions the trans action descriptions got split into two separate rows.\n",
    "Here concatenating the descriptions for the same transaction, and then dropping the description row."
   ]
  },
  {
   "cell_type": "code",
   "execution_count": 21,
   "metadata": {
    "pycharm": {
     "name": "#%%\n"
    }
   },
   "outputs": [],
   "source": [
    "for i in table.index:\n",
    "    if pd.isnull(table['Value date'])[i]:\n",
    "        j = table.loc[i-1,'Description']+\" \"+table.loc[i,'Description']\n",
    "        table = table.replace(to_replace = [table.loc[i-1,'Description']],value = j)\n",
    "        table = table.drop(i)"
   ]
  },
  {
   "cell_type": "code",
   "execution_count": 22,
   "metadata": {
    "pycharm": {
     "name": "#%%\n"
    }
   },
   "outputs": [],
   "source": [
    "# Dropping the 'Amount' column\n",
    "\n",
    "table.drop('Amount',inplace = True,axis = 1)"
   ]
  },
  {
   "cell_type": "code",
   "execution_count": 23,
   "metadata": {
    "pycharm": {
     "name": "#%%\n"
    }
   },
   "outputs": [
    {
     "data": {
      "text/plain": "   Value date Order date                                        Description  \\\n4  2019-03-01 2019-02-28                                  INTEREST RECEIVED   \n5  2019-03-04 2019-02-27  INTEREST FOR BNP PARIBAS 4M CALLABLE FIXED COU...   \n7  2019-03-04 2019-03-04  EARLY REDEMPTION OF HKD 3,000,000.00 BNP PARIB...   \n9  2019-03-05 2019-03-05                          REPAY FIXED LOAN #31806-0   \n10 2019-03-05 2019-03-05             INTEREST CHARGE ON FIXED LOAN #31806-0   \n\n         Debit     Credit Currency  \n4                    2.39      HKD  \n5                 20025.0      HKD  \n7               3000000.0      HKD  \n9   5443428.95                 HKD  \n10     1834.73                 HKD  ",
      "text/html": "<div>\n<style scoped>\n    .dataframe tbody tr th:only-of-type {\n        vertical-align: middle;\n    }\n\n    .dataframe tbody tr th {\n        vertical-align: top;\n    }\n\n    .dataframe thead th {\n        text-align: right;\n    }\n</style>\n<table border=\"1\" class=\"dataframe\">\n  <thead>\n    <tr style=\"text-align: right;\">\n      <th></th>\n      <th>Value date</th>\n      <th>Order date</th>\n      <th>Description</th>\n      <th>Debit</th>\n      <th>Credit</th>\n      <th>Currency</th>\n    </tr>\n  </thead>\n  <tbody>\n    <tr>\n      <th>4</th>\n      <td>2019-03-01</td>\n      <td>2019-02-28</td>\n      <td>INTEREST RECEIVED</td>\n      <td></td>\n      <td>2.39</td>\n      <td>HKD</td>\n    </tr>\n    <tr>\n      <th>5</th>\n      <td>2019-03-04</td>\n      <td>2019-02-27</td>\n      <td>INTEREST FOR BNP PARIBAS 4M CALLABLE FIXED COU...</td>\n      <td></td>\n      <td>20025.0</td>\n      <td>HKD</td>\n    </tr>\n    <tr>\n      <th>7</th>\n      <td>2019-03-04</td>\n      <td>2019-03-04</td>\n      <td>EARLY REDEMPTION OF HKD 3,000,000.00 BNP PARIB...</td>\n      <td></td>\n      <td>3000000.0</td>\n      <td>HKD</td>\n    </tr>\n    <tr>\n      <th>9</th>\n      <td>2019-03-05</td>\n      <td>2019-03-05</td>\n      <td>REPAY FIXED LOAN #31806-0</td>\n      <td>5443428.95</td>\n      <td></td>\n      <td>HKD</td>\n    </tr>\n    <tr>\n      <th>10</th>\n      <td>2019-03-05</td>\n      <td>2019-03-05</td>\n      <td>INTEREST CHARGE ON FIXED LOAN #31806-0</td>\n      <td>1834.73</td>\n      <td></td>\n      <td>HKD</td>\n    </tr>\n  </tbody>\n</table>\n</div>"
     },
     "execution_count": 23,
     "metadata": {},
     "output_type": "execute_result"
    }
   ],
   "source": [
    "# Replacing the NaN cell values with blank(\"\")\n",
    "\n",
    "table = table.fillna(\"\")\n",
    "table.head()"
   ]
  },
  {
   "cell_type": "code",
   "execution_count": 24,
   "metadata": {
    "pycharm": {
     "name": "#%%\n"
    }
   },
   "outputs": [],
   "source": [
    "# Saving the dataframe as Excel(.xlsx) file\n",
    "table.to_excel(\"Output_table.xlsx\",index = None)\n"
   ]
  }
 ],
 "metadata": {
  "kernelspec": {
   "display_name": "Python 3",
   "language": "python",
   "name": "python3"
  },
  "language_info": {
   "codemirror_mode": {
    "name": "ipython",
    "version": 3
   },
   "file_extension": ".py",
   "mimetype": "text/x-python",
   "name": "python",
   "nbconvert_exporter": "python",
   "pygments_lexer": "ipython3",
   "version": "3.9.4"
  }
 },
 "nbformat": 4,
 "nbformat_minor": 1
}